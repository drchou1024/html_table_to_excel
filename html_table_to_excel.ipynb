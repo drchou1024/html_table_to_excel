{
 "cells": [
  {
   "cell_type": "code",
   "execution_count": 1,
   "metadata": {},
   "outputs": [],
   "source": [
    "import csv\n",
    "import numpy as np\n",
    "import pandas as pd"
   ]
  },
  {
   "cell_type": "code",
   "execution_count": 2,
   "metadata": {},
   "outputs": [],
   "source": [
    "file_name = input('Please ener txt file name: ')\n",
    "excel_name = input('Please enter desired excel file name: ')\n",
    "fileref = open(f'{file_name}.txt', encoding='UTF-8')\n",
    "textfile = fileref.read()\n",
    "lines = textfile.split('\\n')"
   ]
  },
  {
   "cell_type": "code",
   "execution_count": 3,
   "metadata": {},
   "outputs": [],
   "source": [
    "line_lst=[]\n",
    "for line in lines:\n",
    "    line_lst.append(line.split('\\t'))\n"
   ]
  },
  {
   "cell_type": "code",
   "execution_count": 5,
   "metadata": {},
   "outputs": [
    {
     "data": {
      "text/plain": [
       "[['Linux 命令', ' Windows 命令', ' 說明'],\n",
       " [' pwd', ' cd', ' 顯示幕前目錄'],\n",
       " [' ls -al', ' dir', ' 顯示目前目錄下的檔案與子目錄列表'],\n",
       " [' mkdir tmp', ' md tmp', ' 建立子目錄 tmp'],\n",
       " [' rm -r tmp', ' rd tmp', ' 刪除子目錄 tmp'],\n",
       " [' cd tmp', ' cd tmp', ' 切換至子目錄 tmp'],\n",
       " [' cd ..', ' cd .. ', ' 切換至上一層目錄'],\n",
       " [' touch test.txt', ' copy nul > test.txt', ' 建立空白文字檔案'],\n",
       " [' cat file/more', ' type file', ' 顯示檔案內容'],\n",
       " [' rm file', ' del file', ' 刪除檔案 file'],\n",
       " [' mv file1 file2', ' ren file1 file2', ' 將檔案 file1 更名為 file2'],\n",
       " [' cp file1 file2', ' copy file1 file2', ' 複製檔案 file1 為 file2'],\n",
       " [' date', ' date', ' 顯示日期 (Linux 含時間)'],\n",
       " [' clear', ' cls', ' 清除螢幕'],\n",
       " ['']]"
      ]
     },
     "execution_count": 5,
     "metadata": {},
     "output_type": "execute_result"
    }
   ],
   "source": [
    "line_lst"
   ]
  },
  {
   "cell_type": "code",
   "execution_count": 6,
   "metadata": {},
   "outputs": [],
   "source": [
    "header=line_lst[0]\n",
    "data = np.array(line_lst[1:-1])"
   ]
  },
  {
   "cell_type": "code",
   "execution_count": 7,
   "metadata": {},
   "outputs": [
    {
     "data": {
      "text/html": [
       "<div>\n",
       "<style scoped>\n",
       "    .dataframe tbody tr th:only-of-type {\n",
       "        vertical-align: middle;\n",
       "    }\n",
       "\n",
       "    .dataframe tbody tr th {\n",
       "        vertical-align: top;\n",
       "    }\n",
       "\n",
       "    .dataframe thead th {\n",
       "        text-align: right;\n",
       "    }\n",
       "</style>\n",
       "<table border=\"1\" class=\"dataframe\">\n",
       "  <thead>\n",
       "    <tr style=\"text-align: right;\">\n",
       "      <th></th>\n",
       "      <th>Linux 命令</th>\n",
       "      <th>Windows 命令</th>\n",
       "      <th>說明</th>\n",
       "    </tr>\n",
       "  </thead>\n",
       "  <tbody>\n",
       "    <tr>\n",
       "      <th>0</th>\n",
       "      <td>pwd</td>\n",
       "      <td>cd</td>\n",
       "      <td>顯示幕前目錄</td>\n",
       "    </tr>\n",
       "    <tr>\n",
       "      <th>1</th>\n",
       "      <td>ls -al</td>\n",
       "      <td>dir</td>\n",
       "      <td>顯示目前目錄下的檔案與子目錄列表</td>\n",
       "    </tr>\n",
       "    <tr>\n",
       "      <th>2</th>\n",
       "      <td>mkdir tmp</td>\n",
       "      <td>md tmp</td>\n",
       "      <td>建立子目錄 tmp</td>\n",
       "    </tr>\n",
       "    <tr>\n",
       "      <th>3</th>\n",
       "      <td>rm -r tmp</td>\n",
       "      <td>rd tmp</td>\n",
       "      <td>刪除子目錄 tmp</td>\n",
       "    </tr>\n",
       "    <tr>\n",
       "      <th>4</th>\n",
       "      <td>cd tmp</td>\n",
       "      <td>cd tmp</td>\n",
       "      <td>切換至子目錄 tmp</td>\n",
       "    </tr>\n",
       "    <tr>\n",
       "      <th>5</th>\n",
       "      <td>cd ..</td>\n",
       "      <td>cd ..</td>\n",
       "      <td>切換至上一層目錄</td>\n",
       "    </tr>\n",
       "    <tr>\n",
       "      <th>6</th>\n",
       "      <td>touch test.txt</td>\n",
       "      <td>copy nul &gt; test.txt</td>\n",
       "      <td>建立空白文字檔案</td>\n",
       "    </tr>\n",
       "    <tr>\n",
       "      <th>7</th>\n",
       "      <td>cat file/more</td>\n",
       "      <td>type file</td>\n",
       "      <td>顯示檔案內容</td>\n",
       "    </tr>\n",
       "    <tr>\n",
       "      <th>8</th>\n",
       "      <td>rm file</td>\n",
       "      <td>del file</td>\n",
       "      <td>刪除檔案 file</td>\n",
       "    </tr>\n",
       "    <tr>\n",
       "      <th>9</th>\n",
       "      <td>mv file1 file2</td>\n",
       "      <td>ren file1 file2</td>\n",
       "      <td>將檔案 file1 更名為 file2</td>\n",
       "    </tr>\n",
       "    <tr>\n",
       "      <th>10</th>\n",
       "      <td>cp file1 file2</td>\n",
       "      <td>copy file1 file2</td>\n",
       "      <td>複製檔案 file1 為 file2</td>\n",
       "    </tr>\n",
       "    <tr>\n",
       "      <th>11</th>\n",
       "      <td>date</td>\n",
       "      <td>date</td>\n",
       "      <td>顯示日期 (Linux 含時間)</td>\n",
       "    </tr>\n",
       "    <tr>\n",
       "      <th>12</th>\n",
       "      <td>clear</td>\n",
       "      <td>cls</td>\n",
       "      <td>清除螢幕</td>\n",
       "    </tr>\n",
       "  </tbody>\n",
       "</table>\n",
       "</div>"
      ],
      "text/plain": [
       "           Linux 命令            Windows 命令                    說明\n",
       "0               pwd                    cd                顯示幕前目錄\n",
       "1            ls -al                   dir      顯示目前目錄下的檔案與子目錄列表\n",
       "2         mkdir tmp                md tmp             建立子目錄 tmp\n",
       "3         rm -r tmp                rd tmp             刪除子目錄 tmp\n",
       "4            cd tmp                cd tmp            切換至子目錄 tmp\n",
       "5             cd ..                cd ..               切換至上一層目錄\n",
       "6    touch test.txt   copy nul > test.txt              建立空白文字檔案\n",
       "7     cat file/more             type file                顯示檔案內容\n",
       "8           rm file              del file             刪除檔案 file\n",
       "9    mv file1 file2       ren file1 file2   將檔案 file1 更名為 file2\n",
       "10   cp file1 file2      copy file1 file2    複製檔案 file1 為 file2\n",
       "11             date                  date      顯示日期 (Linux 含時間)\n",
       "12            clear                   cls                  清除螢幕"
      ]
     },
     "execution_count": 7,
     "metadata": {},
     "output_type": "execute_result"
    }
   ],
   "source": [
    "data_df=pd.DataFrame(data, columns=header)\n",
    "data_df\n"
   ]
  },
  {
   "cell_type": "code",
   "execution_count": 29,
   "metadata": {},
   "outputs": [],
   "source": [
    "data_df.to_excel(f'{excel_name}.xlsx', index=False)"
   ]
  }
 ],
 "metadata": {
  "interpreter": {
   "hash": "240ca9f003b839c66ae3cb03e5c9e95285bce9f915e26e37ea9fd6c2c779f5b3"
  },
  "kernelspec": {
   "display_name": "Python 3.9.7 64-bit",
   "name": "python3"
  },
  "language_info": {
   "codemirror_mode": {
    "name": "ipython",
    "version": 3
   },
   "file_extension": ".py",
   "mimetype": "text/x-python",
   "name": "python",
   "nbconvert_exporter": "python",
   "pygments_lexer": "ipython3",
   "version": "3.9.7"
  },
  "orig_nbformat": 4
 },
 "nbformat": 4,
 "nbformat_minor": 2
}
